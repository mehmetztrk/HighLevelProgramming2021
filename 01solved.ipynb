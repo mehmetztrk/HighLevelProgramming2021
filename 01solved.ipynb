{
 "cells": [
  {
   "cell_type": "markdown",
   "metadata": {},
   "source": [
    "1. The HelloWorld replacement\n",
    "\n",
    "a) Write a program that prints the numbers from 1 to 100. But for multiples of three print \"Hello\" instead of the number and for the multiples of five print \"World\". For numbers which are multiples of both three and five print \"HelloWorld\".\n",
    "\n",
    "b) Put the result in a tuple and substitute \"Hello\" with \"Python\" and \"World\" with \"Works\"."
   ]
  },
  {
   "cell_type": "markdown",
   "metadata": {},
   "source": [
    "2\\. The swap function\n",
    "\n",
    "Write a function that swap the values of two input variables x and y (whatever the type). Try to do that also without a temporary variable"
   ]
  },
  {
   "cell_type": "markdown",
   "metadata": {},
   "source": [
    "3\\. Computing the distance\n",
    "\n",
    "Write a function that calculates and returns the euclidean distance between two points *u* and *v*, where *u* and *v* are both 2-tuples *(x,y)*. For example, if *u=(3,0)* and *v=(0,4)*, the function should return 5"
   ]
  },
  {
   "cell_type": "markdown",
   "metadata": {},
   "source": [
    "4\\. Counting letters\n",
    "\n",
    "Write a program to calculate the number of times each character occurs in a given string *s*. Ignore differences in capitalization"
   ]
  },
  {
   "cell_type": "code",
   "execution_count": 1,
   "metadata": {},
   "outputs": [
    {
     "name": "stdout",
     "output_type": "stream",
     "text": [
      "1\n",
      "2\n",
      "Hello\n",
      "4\n",
      "World\n",
      "Hello\n",
      "7\n",
      "8\n",
      "Hello\n",
      "World\n",
      "11\n",
      "Hello\n",
      "13\n",
      "14\n",
      "HelloWorld\n",
      "16\n",
      "17\n",
      "Hello\n",
      "19\n",
      "World\n",
      "Hello\n",
      "22\n",
      "23\n",
      "Hello\n",
      "World\n",
      "26\n",
      "Hello\n",
      "28\n",
      "29\n",
      "HelloWorld\n",
      "31\n",
      "32\n",
      "Hello\n",
      "34\n",
      "World\n",
      "Hello\n",
      "37\n",
      "38\n",
      "Hello\n",
      "World\n",
      "41\n",
      "Hello\n",
      "43\n",
      "44\n",
      "HelloWorld\n",
      "46\n",
      "47\n",
      "Hello\n",
      "49\n",
      "World\n",
      "Hello\n",
      "52\n",
      "53\n",
      "Hello\n",
      "World\n",
      "56\n",
      "Hello\n",
      "58\n",
      "59\n",
      "HelloWorld\n",
      "61\n",
      "62\n",
      "Hello\n",
      "64\n",
      "World\n",
      "Hello\n",
      "67\n",
      "68\n",
      "Hello\n",
      "World\n",
      "71\n",
      "Hello\n",
      "73\n",
      "74\n",
      "HelloWorld\n",
      "76\n",
      "77\n",
      "Hello\n",
      "79\n",
      "World\n",
      "Hello\n",
      "82\n",
      "83\n",
      "Hello\n",
      "World\n",
      "86\n",
      "Hello\n",
      "88\n",
      "89\n",
      "HelloWorld\n",
      "91\n",
      "92\n",
      "Hello\n",
      "94\n",
      "World\n",
      "Hello\n",
      "97\n",
      "98\n",
      "Hello\n",
      "World\n",
      "(1, 2, 'Python', 4, 'Works', 'Python', 7, 8, 'Python', 'Works', 11, 'Python', 13, 14, 'PythonWorks', 16, 17, 'Python', 19, 'Works', 'Python', 22, 23, 'Python', 'Works', 26, 'Python', 28, 29, 'PythonWorks', 31, 32, 'Python', 34, 'Works', 'Python', 37, 38, 'Python', 'Works', 41, 'Python', 43, 44, 'PythonWorks', 46, 47, 'Python', 49, 'Works', 'Python', 52, 53, 'Python', 'Works', 56, 'Python', 58, 59, 'PythonWorks', 61, 62, 'Python', 64, 'Works', 'Python', 67, 68, 'Python', 'Works', 71, 'Python', 73, 74, 'PythonWorks', 76, 77, 'Python', 79, 'Works', 'Python', 82, 83, 'Python', 'Works', 86, 'Python', 88, 89, 'PythonWorks', 91, 92, 'Python', 94, 'Works', 'Python', 97, 98, 'Python', 'Works')\n"
     ]
    }
   ],
   "source": [
    "s = list()\n",
    "#\"Write a program that prints the numbers from 1 to 100. \\\n",
    "#But for multiples of three print Hello instead of the number and for the multiples of five print World. \\\n",
    "#For numbers which are multiples of both three and five print HelloWorld.\"\n",
    "\n",
    "for i in range (1,101):\n",
    "    if (i%15==0):\n",
    "        print (\"HelloWorld\")\n",
    "        s.append(\"PythonWorks\")\n",
    "    elif (i%3==0):\n",
    "        print (\"Hello\")\n",
    "        s.append(\"Python\")\n",
    "    elif (i%5==0):\n",
    "        print (\"World\")\n",
    "        s.append(\"Works\")\n",
    "    else :\n",
    "        print (i)\n",
    "        s.append(i)\n",
    "\n",
    "myTuple = tuple(s)\n",
    "print (myTuple)\n",
    "####### Swap Function #######\n",
    "def swapFunction(x,y):\n",
    "    holder = x\n",
    "    y = x\n",
    "    x = holder\n",
    "#################################################\n"
   ]
  },
  {
   "cell_type": "markdown",
   "metadata": {},
   "source": [
    "5\\. Isolating the unique\n",
    "\n",
    "Write a function that determines and count the unique numbers in the list:"
   ]
  },
  {
   "cell_type": "code",
   "execution_count": 22,
   "metadata": {},
   "outputs": [
    {
     "name": "stdout",
     "output_type": "stream",
     "text": [
      "[36, 45, 58, 3, 74, 96, 64, 31, 10, 24, 19, 33, 86, 99, 18, 63, 70, 85, 47, 56, 42, 84, 88, 55, 20, 54, 8, 51, 79, 81, 57, 37, 91, 1, 66, 9, 89, 50, 95, 90, 98, 39, 16, 82, 92, 41, 30, 34, 94, 5, 72, 87, 75, 53]\n",
      "[36, 45, 58, 3, 74, 96, 64, 31, 10, 24, 19, 33, 86, 99, 18, 63, 70, 85, 47, 56, 42, 84, 88, 55, 20, 54, 8, 51, 79, 81, 57, 37, 91, 1, 66, 9, 89, 50, 95, 90, 98, 39, 16, 82, 92, 41, 30, 34, 94, 5, 72, 87, 75, 53]\n"
     ]
    }
   ],
   "source": [
    "l = [36, 45, 58, 3, 74, 96, 64, 45, 31, 10, 24, 19, 33, 86, 99, 18, 63, 70, 85,\n",
    " 85, 63, 47, 56, 42, 70, 84, 88, 55, 20, 54, 8, 56, 51, 79, 81, 57, 37, 91,\n",
    " 1, 84, 84, 36, 66, 9, 89, 50, 42, 91, 50, 95, 90, 98, 39, 16, 82, 31, 92, 41,\n",
    " 45, 30, 66, 70, 34, 85, 94, 5, 3, 36, 72, 91, 84, 34, 87, 75, 53, 51, 20, 89, 51, 20]\n",
    "def unique(l):\n",
    "    unique_list = []\n",
    "    for x in l:\n",
    "        if x not in unique_list:\n",
    "            unique_list.append(x)\n",
    "    print(unique_list);\n",
    "unique(l)\n",
    "###########################second way ##########################################\n",
    "l = [36, 45, 58, 3, 74, 96, 64, 45, 31, 10, 24, 19, 33, 86, 99, 18, 63, 70, 85,\n",
    " 85, 63, 47, 56, 42, 70, 84, 88, 55, 20, 54, 8, 56, 51, 79, 81, 57, 37, 91,\n",
    " 1, 84, 84, 36, 66, 9, 89, 50, 42, 91, 50, 95, 90, 98, 39, 16, 82, 31, 92, 41,\n",
    " 45, 30, 66, 70, 34, 85, 94, 5, 3, 36, 72, 91, 84, 34, 87, 75, 53, 51, 20, 89, 51, 20]\n",
    "used = set()\n",
    "unique = [x for x in l if x not in used and (used.add(x) or True)]\n",
    "print(unique)"
   ]
  },
  {
   "cell_type": "markdown",
   "metadata": {},
   "source": [
    "Do the same without using user-defined functions, but exploiting only the Python data structures."
   ]
  },
  {
   "cell_type": "markdown",
   "metadata": {},
   "source": [
    "6\\. Combination of functions\n",
    "\n",
    "Write two functions - one that returns the square of a number, and one that returns the cube. Now write a third function that returns the number raised to the 6th power using the two previous functions."
   ]
  },
  {
   "cell_type": "markdown",
   "metadata": {},
   "source": [
    "7\\. Cubes\n",
    "\n",
    "Create a list of the cubes of x for x in *[0, 10]* using:\n",
    "\n",
    "a) a for loop\n",
    "\n",
    "b) a list comprehension"
   ]
  },
  {
   "cell_type": "markdown",
   "metadata": {},
   "source": [
    "8\\. Nested list comprehension\n",
    "\n",
    "A Pythagorean triple is an integer solution to the Pythagorean theorem $a^2+b^2=c^2$. The first Pythagorean triple is (3,4,5). Find and put in a tuple all unique Pythagorean triples for the positive integers a, b and c less than 100."
   ]
  },
  {
   "cell_type": "markdown",
   "metadata": {},
   "source": [
    "9\\. Normalization\n",
    "\n",
    "Write a function that takes a tuple of numbers and returns it with the entries normalized to one"
   ]
  },
  {
   "cell_type": "code",
   "execution_count": 2,
   "metadata": {},
   "outputs": [
    {
     "name": "stdout",
     "output_type": "stream",
     "text": [
      "Enter the first point\n",
      "3 0 \n",
      "Enter the second point\n",
      "0 4\n",
      "euclidean distance 5.0\n"
     ]
    }
   ],
   "source": [
    "################### 3EXMP euclidean distance############\n",
    "import math\n",
    "print(\"Enter the first point\")\n",
    "x1, y1 = map(int, input().split())\n",
    "print(\"Enter the second point\")\n",
    "x2, y2 = map(int, input().split())\n",
    "dist = math.sqrt((x2-x1)**2 + (y2-y1)**2)\n",
    "print(\"euclidean distance \" + str(dist))"
   ]
  },
  {
   "cell_type": "code",
   "execution_count": 10,
   "metadata": {},
   "outputs": [
    {
     "name": "stdout",
     "output_type": "stream",
     "text": [
      "Paste text here: Merhaba Naber Nasılsın\n",
      "Counter({'a': 4, 'n': 3, 'e': 2, 'r': 2, 'b': 2, ' ': 2, 's': 2, 'ı': 2, 'm': 1, 'h': 1, 'l': 1})\n"
     ]
    }
   ],
   "source": [
    "############# 4 EXMP counting without Capitals###########################\n",
    "import collections\n",
    "string=input(\"Paste text here: \")\n",
    "results = collections.Counter(string.lower())\n",
    "print(results)"
   ]
  },
  {
   "cell_type": "code",
   "execution_count": 16,
   "metadata": {},
   "outputs": [
    {
     "name": "stdout",
     "output_type": "stream",
     "text": [
      "Enter a number: 4\n",
      "4096.0\n"
     ]
    }
   ],
   "source": [
    "##exapmle 6####\n",
    "import math \n",
    "\n",
    "def cube(number): \n",
    "    number=math.pow(number, 3)\n",
    "    return number;\n",
    "def square(number):\n",
    "    number=math.pow(number,2)\n",
    "    return number\n",
    "def sixth_power(number):\n",
    "    number=number*cube(number)*square(number)\n",
    "    print(number)\n",
    "\n",
    "\n",
    "a=int(input(\"Enter a number: \"))\n",
    "cube(a)\n",
    "square(a)\n",
    "sixth_power(a)"
   ]
  },
  {
   "cell_type": "code",
   "execution_count": 19,
   "metadata": {},
   "outputs": [
    {
     "name": "stdout",
     "output_type": "stream",
     "text": [
      "[0.0, 1.0, 8.0, 27.0, 64.0, 125.0, 216.0, 343.0, 512.0, 729.0, 1000.0]\n",
      "[0.0, 1.0, 8.0, 27.0, 64.0, 125.0, 216.0, 343.0, 512.0, 729.0, 1000.0]\n"
     ]
    }
   ],
   "source": [
    "#example 7 with list combherension \n",
    "l=[0,1, 2, 3, 4,5,6,7,8,9,10]\n",
    "cubes=[pow(i, 3) for i in l]\n",
    "print(cubes)\n",
    "#without list compheresion\n",
    "l=[0,1, 2, 3, 4,5,6,7,8,9,10]\n",
    "cubes= []\n",
    "for i in l:\n",
    "    cubes.append(pow(i, 3))\n",
    "print(cubes)"
   ]
  },
  {
   "cell_type": "code",
   "execution_count": 34,
   "metadata": {},
   "outputs": [
    {
     "name": "stdout",
     "output_type": "stream",
     "text": [
      "Enter a number for limit to calculate pythagorean: 100\n",
      "3 4 5\n",
      "8 6 10\n",
      "5 12 13\n",
      "15 8 17\n",
      "12 16 20\n",
      "7 24 25\n",
      "24 10 26\n",
      "21 20 29\n",
      "16 30 34\n",
      "9 40 41\n",
      "35 12 37\n",
      "32 24 40\n",
      "27 36 45\n",
      "20 48 52\n",
      "11 60 61\n",
      "48 14 50\n",
      "45 28 53\n",
      "40 42 58\n",
      "33 56 65\n",
      "24 70 74\n",
      "13 84 85\n",
      "63 16 65\n",
      "60 32 68\n",
      "55 48 73\n",
      "48 64 80\n",
      "39 80 89\n",
      "28 96 100\n"
     ]
    }
   ],
   "source": [
    "###example 8 \n",
    "def pythagorean_triplets(limits) :\n",
    "    c, m = 0, 2\n",
    "    while c < limits :\n",
    "        for n in range(1, m) :\n",
    "            a = m * m - n * n\n",
    "            b = 2 * m * n\n",
    "            c = m * m + n * n\n",
    "            if c > limits :\n",
    "                break\n",
    "            print(a, b, c)\n",
    "        m = m + 1  \n",
    "if __name__ == '__main__' :\n",
    "\n",
    "    limit=int(input(\"Enter a number for limit to calculate pythagorean: \"))\n",
    "    pythagorean_triplets(limit)"
   ]
  },
  {
   "cell_type": "code",
   "execution_count": 42,
   "metadata": {},
   "outputs": [
    {
     "name": "stdout",
     "output_type": "stream",
     "text": [
      "[0.0, 0.25, 1.0, 0.5, 0.75, 0.25]\n"
     ]
    }
   ],
   "source": [
    "####example 9 Write a function that takes a tuple of numbers and returns it with the entries normalized to one\n",
    "data=[2,4,10,6,8,4]\n",
    "amin,amax = min(data), max(data)\n",
    "for i,val in enumerate(data):\n",
    "    data[i]=(val-amin)/(amax-amin)\n",
    "print(data)"
   ]
  },
  {
   "cell_type": "code",
   "execution_count": null,
   "metadata": {},
   "outputs": [],
   "source": []
  }
 ],
 "metadata": {
  "kernelspec": {
   "display_name": "Python 3",
   "language": "python",
   "name": "python3"
  },
  "language_info": {
   "codemirror_mode": {
    "name": "ipython",
    "version": 3
   },
   "file_extension": ".py",
   "mimetype": "text/x-python",
   "name": "python",
   "nbconvert_exporter": "python",
   "pygments_lexer": "ipython3",
   "version": "3.8.8"
  }
 },
 "nbformat": 4,
 "nbformat_minor": 2
}
