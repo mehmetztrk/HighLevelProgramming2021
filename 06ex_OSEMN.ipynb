{
 "cells": [
  {
   "cell_type": "code",
   "execution_count": 1,
   "metadata": {},
   "outputs": [],
   "source": [
    "import pandas as pd\n",
    "import numpy as np\n",
    "import json\n",
    "import matplotlib.pyplot as plt\n",
    "import csv"
   ]
  },
  {
   "cell_type": "markdown",
   "metadata": {},
   "source": [
    "1\\. Perform the following operations on plain `txt` files:\n",
    "\n",
    "+ create a list of integrer numbers and then save it to a text file named \"data_int.txt\". Run the `cat` command to print the content of the file.\n",
    "+ create a matrix of 5x5 floats and then save it to a text file named \"data_float.txt\". Use the `cat` command to print the content of the file.\n",
    "+ load the txt file of the previous point and convert it to a csv file by hand."
   ]
  },
  {
   "cell_type": "code",
   "execution_count": 9,
   "metadata": {},
   "outputs": [
    {
     "name": "stdout",
     "output_type": "stream",
     "text": [
      "1\t2\t3\t4\t5\n",
      "6\t7\t8\t9\t10\n",
      "11\t12\t13\t14\t15\n",
      "16\t17\t18\t19\t20\n",
      "21\t22\t23\t24\t25\n",
      "26\t27\t28\t29\t30\n",
      "31\t32\t33\t34\t35\n",
      "36\t37\t38\t39\t40\n",
      "41\t42\t43\t44\t45\n",
      "46\t47\t48\t49\t50\n",
      "51\t52\t53\t54\t55\n",
      "56\t57\t58\t59\t60\n",
      "61\t62\t63\t64\t65\n",
      "66\t67\t68\t69\t70\n",
      "71\t72\t73\t74\t75\n",
      "76\t77\t78\t79\t80\n",
      "81\t82\t83\t84\t85\n",
      "86\t87\t88\t89\t90\n",
      "91\t92\t93\t94\t95\n",
      "96\t97\t98\t99\t100\n",
      "\n",
      "\n",
      "\n",
      "0.15816761603347862\t0.538954504447645\t0.05181129665590678\t0.8619257137967091\t0.8884027741308222\t\n",
      "0.39519407730592304\t0.17245991264540206\t0.23290105885025503\t0.924181527022358\t0.36544922381355127\t\n",
      "0.851494375160342\t0.12685370845162158\t0.4609716730829151\t0.8629672886545939\t0.7253794316731796\t\n",
      "0.12277885747979156\t0.23160486632831911\t0.6359097879622241\t0.36372788112167354\t0.05248556978985497\t\n",
      "0.09880523474724467\t0.9854410561842359\t0.8944617501256161\t0.5530785009946652\t0.9317471360106295\t\n",
      "\n",
      "\n",
      "\n",
      "0.15816761603347862,0.538954504447645,0.05181129665590678,0.8619257137967091,0.8884027741308222,\n",
      "0.39519407730592304,0.17245991264540206,0.23290105885025503,0.924181527022358,0.36544922381355127,\n",
      "0.851494375160342,0.12685370845162158,0.4609716730829151,0.8629672886545939,0.7253794316731796,\n",
      "0.12277885747979156,0.23160486632831911,0.6359097879622241,0.36372788112167354,0.05248556978985497,\n",
      "0.09880523474724467,0.9854410561842359,0.8944617501256161,0.5530785009946652,0.9317471360106295,\n"
     ]
    }
   ],
   "source": [
    "int_numbers = list(range(1, 101)) \n",
    "with open(\"data_int.txt\", 'w') as output: # mode w, writing\n",
    "    for i in int_numbers:\n",
    "        if i%5 == 0:\n",
    "            output.write(str(i)+'\\n') \n",
    "        else:\n",
    "            output.write(str(i)+'\\t')             \n",
    "!type data_int.txt\n",
    "\n",
    "print(\"\\n\\n\")\n",
    "\n",
    "matrix = np.random.rand(5,5)\n",
    "with open(\"data_float.txt\", 'w') as output: # mode w, writing\n",
    "    for i in range(matrix.shape[0]):\n",
    "        for j in range(matrix.shape[1]):\n",
    "            output.write(str(matrix[i,j])+'\\t')\n",
    "        output.write('\\n')\n",
    "!type data_float.txt\n",
    "\n",
    "print(\"\\n\\n\")\n",
    "\n",
    "with open(\"data_float.csv\", mode = 'w') as output: # mode w, writing\n",
    "    with open(\"data_float.txt\", mode='r') as read_txt: # mode r, reading\n",
    "        for row in read_txt:\n",
    "            for element in row.split('\\t'):\n",
    "                if(element == \"\\n\"):\n",
    "                    output.write(\"\\n\")\n",
    "                else:\n",
    "                    output.write(element + \",\")\n",
    "!type data_float.csv"
   ]
  },
  {
   "cell_type": "markdown",
   "metadata": {},
   "source": [
    "2\\. Load the file *user_data.json*, which can be found at:\n",
    "\n",
    "- https://www.dropbox.com/s/sz5klcdpckc39hd/user_data.json\n",
    "\n",
    "and filter the data by the \"CreditCardType\" when it equals to \"American Express\". Than save the data to a new CSV file."
   ]
  },
  {
   "cell_type": "code",
   "execution_count": null,
   "metadata": {},
   "outputs": [],
   "source": []
  },
  {
   "cell_type": "markdown",
   "metadata": {},
   "source": [
    "3\\. Load the file from this url:\n",
    "\n",
    "- https://www.dropbox.com/s/kgshemfgk22iy79/mushrooms_categorized.csv\n",
    "\n",
    "with Pandas. \n",
    "\n",
    "+ explore and print the DataFrame\n",
    "+ calculate, using `groupby()`, the average value of each feature, separately for each class\n",
    "+ save the file in a JSON format."
   ]
  },
  {
   "cell_type": "code",
   "execution_count": null,
   "metadata": {},
   "outputs": [],
   "source": []
  },
  {
   "cell_type": "markdown",
   "metadata": {},
   "source": [
    "4\\. Get the binary file named *credit_card.dat* from this address:\n",
    "\n",
    "- https://www.dropbox.com/s/8m0syw2tkul3dap/credit_card.dat\n",
    "\n",
    "and convert the data into the real credit card number, knowing that:\n",
    "- each line corresponds to a credit card number, which consists of 16 characters (which are numbers in the 0-9 range) divided in 4 blocks, with a whitespace between each block\n",
    "- each character is written using a 6 bit binary representation (including the whitespace)\n",
    "- the final 4 bits of each line are a padding used to determine the end of the line, and can be ignored\n",
    "\n",
    "*Hint*: convert the binary numbers to the decimal representation first, and then use the `chr()` function to convert the latter to a char"
   ]
  },
  {
   "cell_type": "code",
   "execution_count": null,
   "metadata": {},
   "outputs": [],
   "source": []
  },
  {
   "cell_type": "markdown",
   "metadata": {},
   "source": [
    "5\\. **Optional**: load the remote file:\n",
    "\n",
    "- https://www.dropbox.com/s/aamg1apjhclecka/regression_generated.csv\n",
    "\n",
    "with Pandas and create a scatter plot with all possible combinations of the following features:\n",
    "    \n",
    "  + features_1\n",
    "  + features_2\n",
    "  + features_3"
   ]
  },
  {
   "cell_type": "code",
   "execution_count": null,
   "metadata": {},
   "outputs": [],
   "source": []
  }
 ],
 "metadata": {
  "kernelspec": {
   "display_name": "Python 3",
   "language": "python",
   "name": "python3"
  },
  "language_info": {
   "codemirror_mode": {
    "name": "ipython",
    "version": 3
   },
   "file_extension": ".py",
   "mimetype": "text/x-python",
   "name": "python",
   "nbconvert_exporter": "python",
   "pygments_lexer": "ipython3",
   "version": "3.8.8"
  }
 },
 "nbformat": 4,
 "nbformat_minor": 2
}
